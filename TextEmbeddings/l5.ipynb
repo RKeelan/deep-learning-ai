{
 "cells": [
  {
   "cell_type": "code",
   "execution_count": 1,
   "metadata": {},
   "outputs": [
    {
     "name": "stdout",
     "output_type": "stream",
     "text": [
      "stately-command-416115\n"
     ]
    }
   ],
   "source": [
    "from utils import authenticate\n",
    "\n",
    "PROJECT_ID = \"stately-command-416115\"\n",
    "credentials = authenticate()\n",
    "REGION = \"us-central1\"\n",
    "print(PROJECT_ID)\n",
    "\n",
    "import vertexai\n",
    "vertexai.init(project=PROJECT_ID, location=REGION, credentials=credentials)"
   ]
  },
  {
   "cell_type": "code",
   "execution_count": 2,
   "metadata": {},
   "outputs": [],
   "source": [
    "from vertexai.language_models import TextGenerationModel\n",
    "generation_model = TextGenerationModel.from_pretrained(\"text-bison@001\")"
   ]
  },
  {
   "cell_type": "code",
   "execution_count": 3,
   "metadata": {},
   "outputs": [
    {
     "name": "stdout",
     "output_type": "stream",
     "text": [
      "* **Write a program to solve a problem you're interested in.** This could be anything from a game to a tool to help you with your studies. The important thing is that you're interested in the problem and that you're motivated to solve it.\n",
      "* **Take a programming course.** There are many online and offline courses available, so you can find one that fits your schedule and learning style.\n",
      "* **Join a programming community.** There are many online and offline communities where you can connect with other programmers and learn from each other.\n",
      "* **Read programming books and articles.** There is a\n"
     ]
    }
   ],
   "source": [
    "prompt = \"I'm a high school student. \\\n",
    "Recommend me a programming activity to improve my skills.\"\n",
    "print(generation_model.predict(prompt=prompt).text)"
   ]
  },
  {
   "cell_type": "code",
   "execution_count": 4,
   "metadata": {},
   "outputs": [
    {
     "name": "stdout",
     "output_type": "stream",
     "text": [
      "I would suggest learning Python. Python is a general-purpose programming language that is easy to learn and has a wide range of applications. It is used for web development, data science, machine learning, and many other things. Python is also a very popular language, so there are many resources available to help you learn it.\n"
     ]
    }
   ],
   "source": [
    "prompt = \"\"\"I'm a high school student. \\\n",
    "Which of these activities do you suggest and why:\n",
    "a) learn Python\n",
    "b) learn Javascript\n",
    "c) learn Fortran\"\"\"\n",
    "print(generation_model.predict(prompt=prompt).text)"
   ]
  },
  {
   "cell_type": "code",
   "execution_count": 5,
   "metadata": {},
   "outputs": [
    {
     "name": "stdout",
     "output_type": "stream",
     "text": [
      "| Character | Job | Actor |\n",
      "|---|---|---|\n",
      "| Jesse Plank | Wildlife Biologist | Amara Patel |\n",
      "| Maya Jones | Lab Tech | Chloe Nguyen |\n",
      "| Sam Porter | Lab Director | Fredrik Johansson |\n",
      "| Brenna Ode | Marketing Lead | Eleanor Garcia |\n",
      "| Siri Teller | Marine Biologist | Freya Johansson |\n"
     ]
    }
   ],
   "source": [
    "prompt = \"\"\" A bright and promising wildlife biologist \\\n",
    "named Jesse Plank (Amara Patel) is determined to make her \\\n",
    "mark on the world. \n",
    "Jesse moves to Texas for what she believes is her dream job, \n",
    "only to discover a dark secret that will make \\\n",
    "her question everything. \n",
    "In the new lab she quickly befriends the outgoing \\\n",
    "lab tech named Maya Jones (Chloe Nguyen), \n",
    "and the lab director Sam Porter (Fredrik Johansson). \n",
    "Together the trio work long hours on their research \\\n",
    "in a hope to change the world for good. \n",
    "Along the way they meet the comical \\\n",
    "Brenna Ode (Eleanor Garcia) who is a marketing lead \\\n",
    "at the research institute, \n",
    "and marine biologist Siri Teller (Freya Johansson).\n",
    "\n",
    "Extract the characters, their jobs \\\n",
    "and the actors who played them from the above message as a table\n",
    "\"\"\"\n",
    "\n",
    "response = generation_model.predict(prompt=prompt)\n",
    "print(response.text)"
   ]
  },
  {
   "cell_type": "markdown",
   "metadata": {},
   "source": [
    "| Character | Job | Actor |\n",
    "|---|---|---|\n",
    "| Jesse Plank | Wildlife Biologist | Amara Patel |\n",
    "| Maya Jones | Lab Tech | Chloe Nguyen |\n",
    "| Sam Porter | Lab Director | Fredrik Johansson |\n",
    "| Brenna Ode | Marketing Lead | Eleanor Garcia |\n",
    "| Siri Teller | Marine Biologist | Freya Johansson |"
   ]
  },
  {
   "cell_type": "code",
   "execution_count": 6,
   "metadata": {},
   "outputs": [
    {
     "name": "stdout",
     "output_type": "stream",
     "text": [
      "As I prepared the picture frame, I reach into my toolkit to fetch my hammer.\n"
     ]
    }
   ],
   "source": [
    "temperature = 0.0\n",
    "prompt = \"Complete the sentence: \\\n",
    "As I prepared the picture frame, \\\n",
    "I reach into my toolkit to fetch my:\"\n",
    "response = generation_model.predict(prompt=prompt, temperature=temperature)\n",
    "print(response.text)"
   ]
  },
  {
   "cell_type": "code",
   "execution_count": 7,
   "metadata": {},
   "outputs": [
    {
     "name": "stdout",
     "output_type": "stream",
     "text": [
      "[temperpature = 1.0]\n",
      "To prepare the picture frame, I reach into my toolkit to fetch my drill. A drill is a tool that is used to create holes in a variety of materials, including wood, metal, and plastic. It is also a tool that is used to tighten screws and other fasteners.\n"
     ]
    }
   ],
   "source": [
    "temperature = 1.0\n",
    "print(f\"[temperpature = {temperature}]\")\n",
    "response = generation_model.predict(prompt=prompt, temperature=temperature)\n",
    "print(response.text)"
   ]
  },
  {
   "cell_type": "code",
   "execution_count": 8,
   "metadata": {},
   "outputs": [
    {
     "name": "stdout",
     "output_type": "stream",
     "text": [
      "[top_p = 0.2]\n",
      "**Introducing the new Blue Elephant Avocado Jacket!**\n",
      "\n",
      "This jacket is the perfect way to show your love of both blue elephants and avocados. It's made of soft, durable fabric and features a cozy lining. The front has a large blue elephant print, and the back has a smaller avocado print.\n",
      "\n",
      "This jacket is perfect for any occasion. You can wear it to school, to work, or out on the town. It's also great for travel, as it's lightweight and easy to pack.\n",
      "\n",
      "So what are you waiting for? Order your Blue Elephant Avocado Jacket today!\n",
      "\n",
      "**Here\n"
     ]
    }
   ],
   "source": [
    "top_p = 0.2\n",
    "prompt = \"Write an advertisement for jackets\\\n",
    "that involves blue elephants and avocados.\"\n",
    "response = generation_model.predict(prompt=prompt, temperature=0.9, top_p=top_p)\n",
    "print(f\"[top_p = {top_p}]\")\n",
    "print(response.text)"
   ]
  },
  {
   "cell_type": "code",
   "execution_count": 9,
   "metadata": {},
   "outputs": [
    {
     "name": "stdout",
     "output_type": "stream",
     "text": [
      "[top_p = 0.7, top_k = 20]\n",
      "**Introducing the new Blue Elephant Avocado Jacket!**\n",
      "\n",
      "This jacket is the perfect way to show your love of both blue elephants and avocados. It's made of soft, durable fabric and features a cozy lining. The front has a large blue elephant print, and the back has a smaller avocado print.\n",
      "\n",
      "This jacket is perfect for any occasion. You can wear it to school, to work, or out on the town. It's also great for travel, as it's lightweight and easy to pack.\n",
      "\n",
      "So what are you waiting for? Order your Blue Elephant Avocado Jacket today!\n",
      "\n",
      "**Here\n"
     ]
    }
   ],
   "source": [
    "top_k = 20\n",
    "top_p = 0.7\n",
    "reponse = generation_model.predict(prompt=prompt, temperature=temperature, top_k=top_k, top_p=top_p)\n",
    "print(f\"[top_p = {top_p}, top_k = {top_k}]\")\n",
    "print(response.text)"
   ]
  }
 ],
 "metadata": {
  "kernelspec": {
   "display_name": "env",
   "language": "python",
   "name": "python3"
  },
  "language_info": {
   "codemirror_mode": {
    "name": "ipython",
    "version": 3
   },
   "file_extension": ".py",
   "mimetype": "text/x-python",
   "name": "python",
   "nbconvert_exporter": "python",
   "pygments_lexer": "ipython3",
   "version": "3.9.18"
  }
 },
 "nbformat": 4,
 "nbformat_minor": 2
}
