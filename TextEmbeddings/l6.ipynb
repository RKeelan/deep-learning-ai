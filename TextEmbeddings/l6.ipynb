{
 "cells": [
  {
   "cell_type": "code",
   "execution_count": 1,
   "metadata": {},
   "outputs": [
    {
     "name": "stdout",
     "output_type": "stream",
     "text": [
      "stately-command-416115\n"
     ]
    }
   ],
   "source": [
    "from utils import authenticate\n",
    "\n",
    "PROJECT_ID = \"stately-command-416115\"\n",
    "credentials = authenticate()\n",
    "REGION = \"us-central1\"\n",
    "print(PROJECT_ID)\n",
    "\n",
    "import vertexai\n",
    "vertexai.init(project=PROJECT_ID, location=REGION, credentials=credentials)"
   ]
  },
  {
   "cell_type": "code",
   "execution_count": 3,
   "metadata": {},
   "outputs": [
    {
     "name": "stdout",
     "output_type": "stream",
     "text": [
      "Shape: (2000, 3)\n",
      "                                             input_text  \\\n",
      "0     python's inspect.getfile returns \"<string>\"<p>...   \n",
      "1     Passing parameter to function while multithrea...   \n",
      "2     How do we test a specific method written in a ...   \n",
      "3     how can i remove the black bg color of an imag...   \n",
      "4     How to extract each sheet within an Excel file...   \n",
      "...                                                 ...   \n",
      "1995  Is it possible to made inline-block elements l...   \n",
      "1996  Flip Clock code works on Codepen and doesn't w...   \n",
      "1997  React Native How can I put one view in front o...   \n",
      "1998  setting fixed width with 100% height of the pa...   \n",
      "1999  How to make sidebar button not bring viewpoint...   \n",
      "\n",
      "                                            output_text category  \n",
      "0     <p><code>&lt;string&gt;</code> means that the ...   python  \n",
      "1     <p>Try this and note the difference:</p>\\n<pre...   python  \n",
      "2     <p>Duplicate of <a href=\"https://stackoverflow...   python  \n",
      "3     <p>The alpha channel &quot;disappears&quot; be...   python  \n",
      "4     <p>You need to specify the <code>index</code> ...   python  \n",
      "...                                                 ...      ...  \n",
      "1995  <p>If this is only for the visual purpose then...      css  \n",
      "1996  <p>You forgot to attach the CSS file for the f...      css  \n",
      "1997  <p>You can do it using zIndex for example:</p>...      css  \n",
      "1998  <p>You can use <code>width: calc(100% - 100px)...      css  \n",
      "1999  <p>It is quite simple, just remove that href=\"...      css  \n",
      "\n",
      "[2000 rows x 3 columns]\n"
     ]
    }
   ],
   "source": [
    "import pandas as pd\n",
    "so_database = pd.read_csv('so_database_app.csv')\n",
    "print(\"Shape: \" + str(so_database.shape))\n",
    "print(so_database)"
   ]
  },
  {
   "cell_type": "code",
   "execution_count": 5,
   "metadata": {},
   "outputs": [
    {
     "name": "stdout",
     "output_type": "stream",
     "text": [
      "[[-0.03571156 -0.00240684  0.05860338 ... -0.03100227 -0.00855574\n",
      "  -0.01997405]\n",
      " [-0.02024316 -0.0026255   0.01940405 ... -0.02158143 -0.05655403\n",
      "  -0.01040497]\n",
      " [-0.05175979 -0.03712264  0.02699278 ... -0.07055898 -0.0402537\n",
      "   0.00092099]\n",
      " ...\n",
      " [-0.00580394 -0.01621097  0.05829635 ... -0.03350992 -0.05343556\n",
      "  -0.06016821]\n",
      " [-0.00436622 -0.02692963  0.03363771 ... -0.01686567 -0.03812337\n",
      "  -0.02329491]\n",
      " [-0.04240424 -0.01633749  0.05516777 ... -0.02697376 -0.01751165\n",
      "  -0.04558187]]\n"
     ]
    }
   ],
   "source": [
    "from vertexai.language_models import TextEmbeddingModel\n",
    "embedding_model = TextEmbeddingModel.from_pretrained(\"textembedding-gecko@001\")\n",
    "\n",
    "import numpy as np\n",
    "from utils import encode_text_to_embedding_batched\n",
    "\n",
    "import pickle\n",
    "with open('question_embeddings_app.pkl', 'rb') as file:\n",
    "    question_embeddings = pickle.load(file)\n",
    "    print(question_embeddings)"
   ]
  },
  {
   "cell_type": "code",
   "execution_count": 6,
   "metadata": {},
   "outputs": [
    {
     "data": {
      "text/html": [
       "<div>\n",
       "<style scoped>\n",
       "    .dataframe tbody tr th:only-of-type {\n",
       "        vertical-align: middle;\n",
       "    }\n",
       "\n",
       "    .dataframe tbody tr th {\n",
       "        vertical-align: top;\n",
       "    }\n",
       "\n",
       "    .dataframe thead th {\n",
       "        text-align: right;\n",
       "    }\n",
       "</style>\n",
       "<table border=\"1\" class=\"dataframe\">\n",
       "  <thead>\n",
       "    <tr style=\"text-align: right;\">\n",
       "      <th></th>\n",
       "      <th>input_text</th>\n",
       "      <th>output_text</th>\n",
       "      <th>category</th>\n",
       "      <th>embeddings</th>\n",
       "    </tr>\n",
       "  </thead>\n",
       "  <tbody>\n",
       "    <tr>\n",
       "      <th>0</th>\n",
       "      <td>python's inspect.getfile returns \"&lt;string&gt;\"&lt;p&gt;...</td>\n",
       "      <td>&lt;p&gt;&lt;code&gt;&amp;lt;string&amp;gt;&lt;/code&gt; means that the ...</td>\n",
       "      <td>python</td>\n",
       "      <td>[-0.03571155667304993, -0.0024068362545222044,...</td>\n",
       "    </tr>\n",
       "    <tr>\n",
       "      <th>1</th>\n",
       "      <td>Passing parameter to function while multithrea...</td>\n",
       "      <td>&lt;p&gt;Try this and note the difference:&lt;/p&gt;\\n&lt;pre...</td>\n",
       "      <td>python</td>\n",
       "      <td>[-0.020243162289261818, -0.002625499852001667,...</td>\n",
       "    </tr>\n",
       "    <tr>\n",
       "      <th>2</th>\n",
       "      <td>How do we test a specific method written in a ...</td>\n",
       "      <td>&lt;p&gt;Duplicate of &lt;a href=\"https://stackoverflow...</td>\n",
       "      <td>python</td>\n",
       "      <td>[-0.05175979062914848, -0.03712264448404312, 0...</td>\n",
       "    </tr>\n",
       "    <tr>\n",
       "      <th>3</th>\n",
       "      <td>how can i remove the black bg color of an imag...</td>\n",
       "      <td>&lt;p&gt;The alpha channel &amp;quot;disappears&amp;quot; be...</td>\n",
       "      <td>python</td>\n",
       "      <td>[0.02206624671816826, -0.028208276256918907, 0...</td>\n",
       "    </tr>\n",
       "    <tr>\n",
       "      <th>4</th>\n",
       "      <td>How to extract each sheet within an Excel file...</td>\n",
       "      <td>&lt;p&gt;You need to specify the &lt;code&gt;index&lt;/code&gt; ...</td>\n",
       "      <td>python</td>\n",
       "      <td>[-0.05498068407177925, -0.0032414537854492664,...</td>\n",
       "    </tr>\n",
       "    <tr>\n",
       "      <th>...</th>\n",
       "      <td>...</td>\n",
       "      <td>...</td>\n",
       "      <td>...</td>\n",
       "      <td>...</td>\n",
       "    </tr>\n",
       "    <tr>\n",
       "      <th>1995</th>\n",
       "      <td>Is it possible to made inline-block elements l...</td>\n",
       "      <td>&lt;p&gt;If this is only for the visual purpose then...</td>\n",
       "      <td>css</td>\n",
       "      <td>[-0.009190441109240055, -0.01732615754008293, ...</td>\n",
       "    </tr>\n",
       "    <tr>\n",
       "      <th>1996</th>\n",
       "      <td>Flip Clock code works on Codepen and doesn't w...</td>\n",
       "      <td>&lt;p&gt;You forgot to attach the CSS file for the f...</td>\n",
       "      <td>css</td>\n",
       "      <td>[-0.009033069014549255, -0.0009270847076550126...</td>\n",
       "    </tr>\n",
       "    <tr>\n",
       "      <th>1997</th>\n",
       "      <td>React Native How can I put one view in front o...</td>\n",
       "      <td>&lt;p&gt;You can do it using zIndex for example:&lt;/p&gt;...</td>\n",
       "      <td>css</td>\n",
       "      <td>[-0.005803938489407301, -0.016210969537496567,...</td>\n",
       "    </tr>\n",
       "    <tr>\n",
       "      <th>1998</th>\n",
       "      <td>setting fixed width with 100% height of the pa...</td>\n",
       "      <td>&lt;p&gt;You can use &lt;code&gt;width: calc(100% - 100px)...</td>\n",
       "      <td>css</td>\n",
       "      <td>[-0.004366223234683275, -0.02692963369190693, ...</td>\n",
       "    </tr>\n",
       "    <tr>\n",
       "      <th>1999</th>\n",
       "      <td>How to make sidebar button not bring viewpoint...</td>\n",
       "      <td>&lt;p&gt;It is quite simple, just remove that href=\"...</td>\n",
       "      <td>css</td>\n",
       "      <td>[-0.04240424185991287, -0.016337493434548378, ...</td>\n",
       "    </tr>\n",
       "  </tbody>\n",
       "</table>\n",
       "<p>2000 rows × 4 columns</p>\n",
       "</div>"
      ],
      "text/plain": [
       "                                             input_text  \\\n",
       "0     python's inspect.getfile returns \"<string>\"<p>...   \n",
       "1     Passing parameter to function while multithrea...   \n",
       "2     How do we test a specific method written in a ...   \n",
       "3     how can i remove the black bg color of an imag...   \n",
       "4     How to extract each sheet within an Excel file...   \n",
       "...                                                 ...   \n",
       "1995  Is it possible to made inline-block elements l...   \n",
       "1996  Flip Clock code works on Codepen and doesn't w...   \n",
       "1997  React Native How can I put one view in front o...   \n",
       "1998  setting fixed width with 100% height of the pa...   \n",
       "1999  How to make sidebar button not bring viewpoint...   \n",
       "\n",
       "                                            output_text category  \\\n",
       "0     <p><code>&lt;string&gt;</code> means that the ...   python   \n",
       "1     <p>Try this and note the difference:</p>\\n<pre...   python   \n",
       "2     <p>Duplicate of <a href=\"https://stackoverflow...   python   \n",
       "3     <p>The alpha channel &quot;disappears&quot; be...   python   \n",
       "4     <p>You need to specify the <code>index</code> ...   python   \n",
       "...                                                 ...      ...   \n",
       "1995  <p>If this is only for the visual purpose then...      css   \n",
       "1996  <p>You forgot to attach the CSS file for the f...      css   \n",
       "1997  <p>You can do it using zIndex for example:</p>...      css   \n",
       "1998  <p>You can use <code>width: calc(100% - 100px)...      css   \n",
       "1999  <p>It is quite simple, just remove that href=\"...      css   \n",
       "\n",
       "                                             embeddings  \n",
       "0     [-0.03571155667304993, -0.0024068362545222044,...  \n",
       "1     [-0.020243162289261818, -0.002625499852001667,...  \n",
       "2     [-0.05175979062914848, -0.03712264448404312, 0...  \n",
       "3     [0.02206624671816826, -0.028208276256918907, 0...  \n",
       "4     [-0.05498068407177925, -0.0032414537854492664,...  \n",
       "...                                                 ...  \n",
       "1995  [-0.009190441109240055, -0.01732615754008293, ...  \n",
       "1996  [-0.009033069014549255, -0.0009270847076550126...  \n",
       "1997  [-0.005803938489407301, -0.016210969537496567,...  \n",
       "1998  [-0.004366223234683275, -0.02692963369190693, ...  \n",
       "1999  [-0.04240424185991287, -0.016337493434548378, ...  \n",
       "\n",
       "[2000 rows x 4 columns]"
      ]
     },
     "execution_count": 6,
     "metadata": {},
     "output_type": "execute_result"
    }
   ],
   "source": [
    "so_database['embeddings'] = question_embeddings.tolist()\n",
    "so_database"
   ]
  },
  {
   "cell_type": "code",
   "execution_count": 17,
   "metadata": {},
   "outputs": [
    {
     "data": {
      "text/plain": [
       "(1, 2000)"
      ]
     },
     "execution_count": 17,
     "metadata": {},
     "output_type": "execute_result"
    }
   ],
   "source": [
    "import numpy as np\n",
    "from sklearn.metrics.pairwise import cosine_similarity\n",
    "from sklearn.metrics import pairwise_distances_argmin as distances_argmin\n",
    "\n",
    "query = ['How to concate dataframes pandas']\n",
    "query_embedding = embedding_model.get_embeddings(query)[0].values\n",
    "cos_sim_array = cosine_similarity([query_embedding], list(so_database.embeddings.values))\n",
    "cos_sim_array.shape"
   ]
  },
  {
   "cell_type": "code",
   "execution_count": 18,
   "metadata": {},
   "outputs": [
    {
     "data": {
      "text/plain": [
       "\"Pandas - concating multi-indexed dataframes keeps duplicate indizes<p>Hello I'm trying to read in multiple dfs of the same structre and concating them into a single one however the combined df somehow keeps duplicates in the indizes....</p>\\n<pre><code>df1 = processUSAdata(2223)\\ndf2 = processUSAdata(2224)\\n\\nprint(df1)\\nprint(df2)\\n\\ntest = pd.concat([df1,df2])\\ntest.set_index(['state','year'],inplace=True)\\nprint(test)\\n</code></pre>\\n<p>outputs</p>\\n<pre><code>         state  population  violent_crime  ...    theft     gta  year\\n0      ALABAMA     4903185         510.81  ...  1886.06  256.51  2223\\n1       ALASKA      731545         867.07  ...  2066.04  357.74  2223\\n2      ARIZONA     7278717         455.31  ...  1796.86  249.37  2223\\n3     ARKANSAS     3017804         584.63  ...  2012.56  245.87  2223\\n4   CALIFORNIA    39512223         441.21  ...  1586.35  358.77  2223\\n5     COLORADO     5758736         380.95  ...  1858.26  383.99  2223\\n6  CONNECTICUT     3565287         183.60  ...  1078.65  167.28  2223\\n\\n[7 rows x 12 columns]\\n         state  population  violent_crime  ...    theft     gta  year\\n0      ALABAMA     4903185         510.81  ...  1886.06  256.51  2224\\n1       ALASKA      731545         867.07  ...  2066.04  357.74  2224\\n2      ARIZONA     7278717         455.31  ...  1796.86  249.37  2224\\n3     ARKANSAS     3017804         584.63  ...  2012.56  245.87  2224\\n4   CALIFORNIA    39512223         441.21  ...  1586.35  358.77  2224\\n5     COLORADO     5758736         380.95  ...  1858.26  383.99  2224\\n6  CONNECTICUT     3565287         183.60  ...  1078.65  167.28  2224\\n\\n[7 rows x 12 columns]\\n                  population  violent_crime  murder  ...  burglary    theft     gta\\nstate       year                                     ...                           \\nALABAMA     2223     4903185         510.81    7.30  ...    531.88  1886.06  256.51\\nALASKA      2223      731545         867.07    9.43  ...    487.05  2066.04  357.74\\nARIZONA     2223     7278717         455.31    5.01  ...    394.29  1796.86  249.37\\nARKANSAS    2223     3017804         584.63    8.02  ...    599.61  2012.56  245.87\\nCALIFORNIA  2223    39512223         441.21    4.28  ...    386.10  1586.35  358.77\\nCOLORADO    2223     5758736         380.95    3.79  ...    348.41  1858.26  383.99\\nCONNECTICUT 2223     3565287         183.60    2.92  ...    180.66  1078.65  167.28\\nALABAMA     2224     4903185         510.81    7.30  ...    531.88  1886.06  256.51\\nALASKA      2224      731545         867.07    9.43  ...    487.05  2066.04  357.74\\nARIZONA     2224     7278717         455.31    5.01  ...    394.29  1796.86  249.37\\nARKANSAS    2224     3017804         584.63    8.02  ...    599.61  2012.56  245.87\\nCALIFORNIA  2224    39512223         441.21    4.28  ...    386.10  1586.35  358.77\\nCOLORADO    2224     5758736         380.95    3.79  ...    348.41  1858.26  383.99\\nCONNECTICUT 2224     3565287         183.60    2.92  ...    180.66  1078.65  167.28\\n</code></pre>\\n<p>Hoping someone can help me out here.\\nThanks in advance! :)</p>\""
      ]
     },
     "execution_count": 18,
     "metadata": {},
     "output_type": "execute_result"
    }
   ],
   "source": [
    "index_doc_cosine = np.argmax(cos_sim_array)\n",
    "index_doc_distances = distances_argmin([query_embedding], list(so_database.embeddings.values))[0]\n",
    "so_database.input_text[index_doc_cosine]"
   ]
  },
  {
   "cell_type": "code",
   "execution_count": 19,
   "metadata": {},
   "outputs": [
    {
     "data": {
      "text/plain": [
       "\"<p>It's probably because your index is not sorted:</p>\\n<pre><code>test = pd.concat([df1, df2]).set_index(['state', 'year']).sort_index()\\nprint(test)\\n\\n# Output\\n                  population  violent_crime    theft     gta\\nstate       year                                            \\nALABAMA     2223     4903185         510.81  1886.06  256.51\\n            2224     4903185         510.81  1886.06  256.51\\nALASKA      2223      731545         867.07  2066.04  357.74\\n            2224      731545         867.07  2066.04  357.74\\nARIZONA     2223     7278717         455.31  1796.86  249.37\\n            2224     7278717         455.31  1796.86  249.37\\nARKANSAS    2223     3017804         584.63  2012.56  245.87\\n            2224     3017804         584.63  2012.56  245.87\\nCALIFORNIA  2223    39512223         441.21  1586.35  358.77\\n            2224    39512223         441.21  1586.35  358.77\\nCOLORADO    2223     5758736         380.95  1858.26  383.99\\n            2224     5758736         380.95  1858.26  383.99\\nCONNECTICUT 2223     3565287         183.60  1078.65  167.28\\n            2224     3565287         183.60  1078.65  167.28\\n</code></pre>\""
      ]
     },
     "execution_count": 19,
     "metadata": {},
     "output_type": "execute_result"
    }
   ],
   "source": [
    "so_database.output_text[index_doc_cosine]"
   ]
  },
  {
   "cell_type": "code",
   "execution_count": 20,
   "metadata": {},
   "outputs": [
    {
     "data": {
      "text/markdown": [
       "The answer is to sort the index before concatenating the dataframes."
      ],
      "text/plain": [
       "<IPython.core.display.Markdown object>"
      ]
     },
     "metadata": {},
     "output_type": "display_data"
    }
   ],
   "source": [
    "from vertexai.language_models import TextGenerationModel\n",
    "generation_model = TextGenerationModel.from_pretrained('text-bison@001')\n",
    "context = \"Question: \" + so_database.input_text[index_doc_cosine] + \\\n",
    "\"\\n Answer: \" + so_database.output_text[index_doc_cosine]\n",
    "\n",
    "prompt = f\"\"\"Here is the context: {context}\n",
    "Using the relevant information from the context, provide an answer to teh query: {query}.\"\n",
    "If the context doesn't provide any relevant information, answer with [I couldn't find a good match in the document database for your query]\"\"\"\n",
    "\n",
    "from IPython.display import Markdown, display\n",
    "\n",
    "t_value = 0.2\n",
    "response = generation_model.predict(prompt=prompt, temperature=t_value, max_output_tokens=1024)\n",
    "display(Markdown(response.text))"
   ]
  },
  {
   "cell_type": "code",
   "execution_count": 21,
   "metadata": {},
   "outputs": [
    {
     "data": {
      "text/plain": [
       "array([[0.52794666, 0.49346994, 0.50784253, ..., 0.45782265, 0.5483748 ,\n",
       "        0.49693718]])"
      ]
     },
     "execution_count": 21,
     "metadata": {},
     "output_type": "execute_result"
    }
   ],
   "source": [
    "from sklearn.metrics.pairwise import cosine_similarity\n",
    "query = ['How to make the perfect lasagna']\n",
    "query_embedding = embedding_model.get_embeddings(query)[0].values\n",
    "cos_sim_array = cosine_similarity([query_embedding], list(so_database.embeddings.values))\n",
    "cos_sim_array"
   ]
  },
  {
   "cell_type": "code",
   "execution_count": 22,
   "metadata": {},
   "outputs": [
    {
     "data": {
      "text/markdown": [
       "I couldn't find a good match in the document database for your query."
      ],
      "text/plain": [
       "<IPython.core.display.Markdown object>"
      ]
     },
     "metadata": {},
     "output_type": "display_data"
    }
   ],
   "source": [
    "index_doc = np.argmax(cos_sim_array)\n",
    "context = so_database.input_text[index_doc] + \"\\n Answer: \" + so_database.output_text[index_doc]\n",
    "prompt = f\"\"\"Here is the context: {context}\n",
    "             Using the relevant information from the context,\n",
    "             provide an answer to the query: {query}.\"\n",
    "             If the context doesn't provide \\\n",
    "             any relevant information, answer with \n",
    "             [I couldn't find a good match in the \\\n",
    "             document database for your query]\n",
    "             \"\"\"\n",
    "t_value = 0.2\n",
    "response = generation_model.predict(prompt = prompt,\n",
    "                                    temperature = t_value,\n",
    "                                    max_output_tokens = 1024)\n",
    "display(Markdown(response.text))"
   ]
  },
  {
   "cell_type": "code",
   "execution_count": 24,
   "metadata": {},
   "outputs": [
    {
     "ename": "ImportError",
     "evalue": "cannot import name 'create_index' from 'utils' (c:\\Users\\RKeelan\\Src\\deep-learning-ai\\utils.py)",
     "output_type": "error",
     "traceback": [
      "\u001b[1;31m---------------------------------------------------------------------------\u001b[0m",
      "\u001b[1;31mImportError\u001b[0m                               Traceback (most recent call last)",
      "Cell \u001b[1;32mIn[24], line 1\u001b[0m\n\u001b[1;32m----> 1\u001b[0m \u001b[38;5;28;01mfrom\u001b[39;00m \u001b[38;5;21;01mutils\u001b[39;00m \u001b[38;5;28;01mimport\u001b[39;00m create_index\n\u001b[0;32m      3\u001b[0m index \u001b[38;5;241m=\u001b[39m create_index(embedded_dataset \u001b[38;5;241m=\u001b[39m question_embeddings,\n\u001b[0;32m      4\u001b[0m                      num_leaves \u001b[38;5;241m=\u001b[39m \u001b[38;5;241m25\u001b[39m, \n\u001b[0;32m      5\u001b[0m                      num_leaves_to_search \u001b[38;5;241m=\u001b[39m \u001b[38;5;241m10\u001b[39m,\n\u001b[0;32m      6\u001b[0m                      training_sample_size \u001b[38;5;241m=\u001b[39m \u001b[38;5;241m2000\u001b[39m)\n\u001b[0;32m      8\u001b[0m query \u001b[38;5;241m=\u001b[39m \u001b[38;5;124m\"\u001b[39m\u001b[38;5;124mhow to concate dataframes pandas\u001b[39m\u001b[38;5;124m\"\u001b[39m\n",
      "\u001b[1;31mImportError\u001b[0m: cannot import name 'create_index' from 'utils' (c:\\Users\\RKeelan\\Src\\deep-learning-ai\\utils.py)"
     ]
    }
   ],
   "source": [
    "import scann # I wasn't immediately able to import this in Windows, so I stopped here\n",
    "from utils import create_index\n",
    "\n",
    "index = create_index(embedded_dataset = question_embeddings,\n",
    "                     num_leaves = 25, \n",
    "                     num_leaves_to_search = 10,\n",
    "                     training_sample_size = 2000)\n",
    "\n",
    "query = \"how to concate dataframes pandas\""
   ]
  },
  {
   "cell_type": "code",
   "execution_count": null,
   "metadata": {},
   "outputs": [],
   "source": []
  }
 ],
 "metadata": {
  "kernelspec": {
   "display_name": "env",
   "language": "python",
   "name": "python3"
  },
  "language_info": {
   "codemirror_mode": {
    "name": "ipython",
    "version": 3
   },
   "file_extension": ".py",
   "mimetype": "text/x-python",
   "name": "python",
   "nbconvert_exporter": "python",
   "pygments_lexer": "ipython3",
   "version": "3.9.18"
  }
 },
 "nbformat": 4,
 "nbformat_minor": 2
}
