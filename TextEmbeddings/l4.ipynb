{
 "cells": [
  {
   "cell_type": "code",
   "execution_count": 45,
   "metadata": {},
   "outputs": [
    {
     "ename": "ImportError",
     "evalue": "cannot import name 'clusters_2D' from 'utils' (c:\\Users\\RKeelan\\Src\\deep-learning-ai\\utils.py)",
     "output_type": "error",
     "traceback": [
      "\u001b[1;31m---------------------------------------------------------------------------\u001b[0m",
      "\u001b[1;31mImportError\u001b[0m                               Traceback (most recent call last)",
      "Cell \u001b[1;32mIn[45], line 1\u001b[0m\n\u001b[1;32m----> 1\u001b[0m \u001b[38;5;28;01mfrom\u001b[39;00m \u001b[38;5;21;01mutils\u001b[39;00m \u001b[38;5;28;01mimport\u001b[39;00m authenticate, clusters_2D\n\u001b[0;32m      3\u001b[0m PROJECT_ID \u001b[38;5;241m=\u001b[39m \u001b[38;5;124m\"\u001b[39m\u001b[38;5;124mstately-command-416115\u001b[39m\u001b[38;5;124m\"\u001b[39m\n\u001b[0;32m      4\u001b[0m credentials \u001b[38;5;241m=\u001b[39m authenticate()\n",
      "\u001b[1;31mImportError\u001b[0m: cannot import name 'clusters_2D' from 'utils' (c:\\Users\\RKeelan\\Src\\deep-learning-ai\\utils.py)"
     ]
    }
   ],
   "source": [
    "from utils import authenticate\n",
    "\n",
    "PROJECT_ID = \"stately-command-416115\"\n",
    "credentials = authenticate()\n",
    "REGION = \"us-central1\"\n",
    "print(PROJECT_ID)\n",
    "\n",
    "import vertexai\n",
    "vertexai.init(project=PROJECT_ID, location=REGION, credentials=credentials)"
   ]
  },
  {
   "cell_type": "code",
   "execution_count": 6,
   "metadata": {},
   "outputs": [],
   "source": [
    "from google.cloud import bigquery\n",
    "import pandas as pd\n",
    "\n",
    "def run_bq_query(sql):\n",
    "    bq_client = bigquery.Client(project=PROJECT_ID, credentials=credentials)\n",
    "    # Try dry run before executing the query to catch any errors\n",
    "    job_config = bigquery.QueryJobConfig(dry_run=True, use_query_cache=False)\n",
    "    bq_client.query(sql, job_config=job_config)\n",
    "\n",
    "    # If there's no error from the dry run, execute the query\n",
    "    job_config = bigquery.QueryJobConfig()\n",
    "    client_result = bq_client.query(sql, job_config=job_config)\n",
    "    job_id = client_result.job_id\n",
    "    \n",
    "    # Wait for the query to finish\n",
    "    df = client_result.result().to_arrow().to_pandas()\n",
    "    print(f\"Finished job_id: {job_id}\")\n",
    "    return df"
   ]
  },
  {
   "cell_type": "code",
   "execution_count": 9,
   "metadata": {},
   "outputs": [
    {
     "name": "stdout",
     "output_type": "stream",
     "text": [
      "Generating python dataframe\n",
      "Generating html dataframe\n",
      "Generating r dataframe\n",
      "Generating css dataframe\n"
     ]
    },
    {
     "data": {
      "text/html": [
       "<div>\n",
       "<style scoped>\n",
       "    .dataframe tbody tr th:only-of-type {\n",
       "        vertical-align: middle;\n",
       "    }\n",
       "\n",
       "    .dataframe tbody tr th {\n",
       "        vertical-align: top;\n",
       "    }\n",
       "\n",
       "    .dataframe thead th {\n",
       "        text-align: right;\n",
       "    }\n",
       "</style>\n",
       "<table border=\"1\" class=\"dataframe\">\n",
       "  <thead>\n",
       "    <tr style=\"text-align: right;\">\n",
       "      <th></th>\n",
       "      <th>input_text</th>\n",
       "      <th>output_text</th>\n",
       "      <th>category</th>\n",
       "    </tr>\n",
       "  </thead>\n",
       "  <tbody>\n",
       "    <tr>\n",
       "      <th>0</th>\n",
       "      <td>python's inspect.getfile returns \"&lt;string&gt;\"&lt;p&gt;...</td>\n",
       "      <td>&lt;p&gt;&lt;code&gt;&amp;lt;string&amp;gt;&lt;/code&gt; means that the ...</td>\n",
       "      <td>python</td>\n",
       "    </tr>\n",
       "    <tr>\n",
       "      <th>1</th>\n",
       "      <td>Passing parameter to function while multithrea...</td>\n",
       "      <td>&lt;p&gt;Try this and note the difference:&lt;/p&gt;\\n&lt;pre...</td>\n",
       "      <td>python</td>\n",
       "    </tr>\n",
       "    <tr>\n",
       "      <th>2</th>\n",
       "      <td>How do we test a specific method written in a ...</td>\n",
       "      <td>&lt;p&gt;Duplicate of &lt;a href=\"https://stackoverflow...</td>\n",
       "      <td>python</td>\n",
       "    </tr>\n",
       "    <tr>\n",
       "      <th>3</th>\n",
       "      <td>how can i remove the black bg color of an imag...</td>\n",
       "      <td>&lt;p&gt;The alpha channel &amp;quot;disappears&amp;quot; be...</td>\n",
       "      <td>python</td>\n",
       "    </tr>\n",
       "    <tr>\n",
       "      <th>4</th>\n",
       "      <td>How to extract each sheet within an Excel file...</td>\n",
       "      <td>&lt;p&gt;You need to specify the &lt;code&gt;index&lt;/code&gt; ...</td>\n",
       "      <td>python</td>\n",
       "    </tr>\n",
       "    <tr>\n",
       "      <th>...</th>\n",
       "      <td>...</td>\n",
       "      <td>...</td>\n",
       "      <td>...</td>\n",
       "    </tr>\n",
       "    <tr>\n",
       "      <th>1995</th>\n",
       "      <td>Is it possible to made inline-block elements l...</td>\n",
       "      <td>&lt;p&gt;If this is only for the visual purpose then...</td>\n",
       "      <td>css</td>\n",
       "    </tr>\n",
       "    <tr>\n",
       "      <th>1996</th>\n",
       "      <td>Flip Clock code works on Codepen and doesn't w...</td>\n",
       "      <td>&lt;p&gt;You forgot to attach the CSS file for the f...</td>\n",
       "      <td>css</td>\n",
       "    </tr>\n",
       "    <tr>\n",
       "      <th>1997</th>\n",
       "      <td>React Native How can I put one view in front o...</td>\n",
       "      <td>&lt;p&gt;You can do it using zIndex for example:&lt;/p&gt;...</td>\n",
       "      <td>css</td>\n",
       "    </tr>\n",
       "    <tr>\n",
       "      <th>1998</th>\n",
       "      <td>setting fixed width with 100% height of the pa...</td>\n",
       "      <td>&lt;p&gt;You can use &lt;code&gt;width: calc(100% - 100px)...</td>\n",
       "      <td>css</td>\n",
       "    </tr>\n",
       "    <tr>\n",
       "      <th>1999</th>\n",
       "      <td>How to make sidebar button not bring viewpoint...</td>\n",
       "      <td>&lt;p&gt;It is quite simple, just remove that href=\"...</td>\n",
       "      <td>css</td>\n",
       "    </tr>\n",
       "  </tbody>\n",
       "</table>\n",
       "<p>2000 rows × 3 columns</p>\n",
       "</div>"
      ],
      "text/plain": [
       "                                             input_text  \\\n",
       "0     python's inspect.getfile returns \"<string>\"<p>...   \n",
       "1     Passing parameter to function while multithrea...   \n",
       "2     How do we test a specific method written in a ...   \n",
       "3     how can i remove the black bg color of an imag...   \n",
       "4     How to extract each sheet within an Excel file...   \n",
       "...                                                 ...   \n",
       "1995  Is it possible to made inline-block elements l...   \n",
       "1996  Flip Clock code works on Codepen and doesn't w...   \n",
       "1997  React Native How can I put one view in front o...   \n",
       "1998  setting fixed width with 100% height of the pa...   \n",
       "1999  How to make sidebar button not bring viewpoint...   \n",
       "\n",
       "                                            output_text category  \n",
       "0     <p><code>&lt;string&gt;</code> means that the ...   python  \n",
       "1     <p>Try this and note the difference:</p>\\n<pre...   python  \n",
       "2     <p>Duplicate of <a href=\"https://stackoverflow...   python  \n",
       "3     <p>The alpha channel &quot;disappears&quot; be...   python  \n",
       "4     <p>You need to specify the <code>index</code> ...   python  \n",
       "...                                                 ...      ...  \n",
       "1995  <p>If this is only for the visual purpose then...      css  \n",
       "1996  <p>You forgot to attach the CSS file for the f...      css  \n",
       "1997  <p>You can do it using zIndex for example:</p>...      css  \n",
       "1998  <p>You can use <code>width: calc(100% - 100px)...      css  \n",
       "1999  <p>It is quite simple, just remove that href=\"...      css  \n",
       "\n",
       "[2000 rows x 3 columns]"
      ]
     },
     "execution_count": 9,
     "metadata": {},
     "output_type": "execute_result"
    }
   ],
   "source": [
    "language_list = [\"python\", \"html\", \"r\", \"css\"]\n",
    "so_df = pd.DataFrame()\n",
    "for language in language_list:\n",
    "    print(f\"Generating {language} dataframe\")\n",
    "    query = f\"\"\"\n",
    "    SELECT\n",
    "        CONCAT(q.title, q.body) as input_text\n",
    "        a.body as output_text\n",
    "    FROM\n",
    "        `bigquery-public-data.stackoverflow.posts_questions` q\n",
    "    JOIN\n",
    "        `bigquery-public-data.stackoverflow.posts_answers` a\n",
    "    ON\n",
    "        q.accepted_answer_id = a.id\n",
    "    WHERE\n",
    "        q.accepted_answer_id IS NOT NULL AND\n",
    "        REGEXP_CONTAINS(q.tags, r\"{language}\") AND\n",
    "        a.creation_date >= \"2020-01-01\"\n",
    "    LIMIT\n",
    "        5000\n",
    "    \"\"\"\n",
    "\n",
    "    #language_df = run_bq_query(query)\n",
    "    #language_df[\"category\"] = language\n",
    "    #so_df = pd.concate([so_df, language_df], ignore_index=True)\n",
    "\n",
    "so_df = pd.read_csv('so_database_app.csv')\n",
    "so_df"
   ]
  },
  {
   "cell_type": "code",
   "execution_count": 10,
   "metadata": {},
   "outputs": [],
   "source": [
    "from vertexai.language_models import TextEmbeddingModel\n",
    "model = TextEmbeddingModel.from_pretrained(\"textembedding-gecko@001\")"
   ]
  },
  {
   "cell_type": "code",
   "execution_count": 11,
   "metadata": {},
   "outputs": [],
   "source": [
    "import time\n",
    "import numpy as np\n",
    "\n",
    "def generate_batches(sentences, batch_size = 5):\n",
    "    for i in range(0, len(sentences), batch_size):\n",
    "        yield sentences[i:i+batch_size]"
   ]
  },
  {
   "cell_type": "code",
   "execution_count": 12,
   "metadata": {},
   "outputs": [],
   "source": [
    "so_questions = so_df[0:200].input_text.tolist()\n",
    "batches = generate_batches(sentences=so_questions)"
   ]
  },
  {
   "cell_type": "code",
   "execution_count": 14,
   "metadata": {},
   "outputs": [
    {
     "data": {
      "text/plain": [
       "5"
      ]
     },
     "execution_count": 14,
     "metadata": {},
     "output_type": "execute_result"
    }
   ],
   "source": [
    "batch = next(batches)\n",
    "len(batch)"
   ]
  },
  {
   "cell_type": "code",
   "execution_count": 18,
   "metadata": {},
   "outputs": [],
   "source": [
    "def encode_texts_to_embeddings(sentences):\n",
    "    try:\n",
    "        embeddings = model.get_embeddings(sentences)\n",
    "        return [embedding.values for embedding in embeddings]\n",
    "    except Exception:\n",
    "        return [None for _ in range(len(sentences))]\n",
    "    "
   ]
  },
  {
   "cell_type": "code",
   "execution_count": 19,
   "metadata": {},
   "outputs": [],
   "source": [
    "batch_embeddings = encode_texts_to_embeddings(batch)"
   ]
  },
  {
   "cell_type": "code",
   "execution_count": 20,
   "metadata": {},
   "outputs": [
    {
     "data": {
      "text/plain": [
       "'5 embeddings of size 768'"
      ]
     },
     "execution_count": 20,
     "metadata": {},
     "output_type": "execute_result"
    }
   ],
   "source": [
    "f\"{len(batch_embeddings)} embeddings of size {len(batch_embeddings[0])}\""
   ]
  },
  {
   "cell_type": "code",
   "execution_count": 21,
   "metadata": {},
   "outputs": [
    {
     "data": {
      "text/html": [
       "<div>\n",
       "<style scoped>\n",
       "    .dataframe tbody tr th:only-of-type {\n",
       "        vertical-align: middle;\n",
       "    }\n",
       "\n",
       "    .dataframe tbody tr th {\n",
       "        vertical-align: top;\n",
       "    }\n",
       "\n",
       "    .dataframe thead th {\n",
       "        text-align: right;\n",
       "    }\n",
       "</style>\n",
       "<table border=\"1\" class=\"dataframe\">\n",
       "  <thead>\n",
       "    <tr style=\"text-align: right;\">\n",
       "      <th></th>\n",
       "      <th>input_text</th>\n",
       "      <th>output_text</th>\n",
       "      <th>category</th>\n",
       "    </tr>\n",
       "  </thead>\n",
       "  <tbody>\n",
       "    <tr>\n",
       "      <th>0</th>\n",
       "      <td>python's inspect.getfile returns \"&lt;string&gt;\"&lt;p&gt;...</td>\n",
       "      <td>&lt;p&gt;&lt;code&gt;&amp;lt;string&amp;gt;&lt;/code&gt; means that the ...</td>\n",
       "      <td>python</td>\n",
       "    </tr>\n",
       "    <tr>\n",
       "      <th>1</th>\n",
       "      <td>Passing parameter to function while multithrea...</td>\n",
       "      <td>&lt;p&gt;Try this and note the difference:&lt;/p&gt;\\n&lt;pre...</td>\n",
       "      <td>python</td>\n",
       "    </tr>\n",
       "    <tr>\n",
       "      <th>2</th>\n",
       "      <td>How do we test a specific method written in a ...</td>\n",
       "      <td>&lt;p&gt;Duplicate of &lt;a href=\"https://stackoverflow...</td>\n",
       "      <td>python</td>\n",
       "    </tr>\n",
       "    <tr>\n",
       "      <th>3</th>\n",
       "      <td>how can i remove the black bg color of an imag...</td>\n",
       "      <td>&lt;p&gt;The alpha channel &amp;quot;disappears&amp;quot; be...</td>\n",
       "      <td>python</td>\n",
       "    </tr>\n",
       "    <tr>\n",
       "      <th>4</th>\n",
       "      <td>How to extract each sheet within an Excel file...</td>\n",
       "      <td>&lt;p&gt;You need to specify the &lt;code&gt;index&lt;/code&gt; ...</td>\n",
       "      <td>python</td>\n",
       "    </tr>\n",
       "  </tbody>\n",
       "</table>\n",
       "</div>"
      ],
      "text/plain": [
       "                                          input_text  \\\n",
       "0  python's inspect.getfile returns \"<string>\"<p>...   \n",
       "1  Passing parameter to function while multithrea...   \n",
       "2  How do we test a specific method written in a ...   \n",
       "3  how can i remove the black bg color of an imag...   \n",
       "4  How to extract each sheet within an Excel file...   \n",
       "\n",
       "                                         output_text category  \n",
       "0  <p><code>&lt;string&gt;</code> means that the ...   python  \n",
       "1  <p>Try this and note the difference:</p>\\n<pre...   python  \n",
       "2  <p>Duplicate of <a href=\"https://stackoverflow...   python  \n",
       "3  <p>The alpha channel &quot;disappears&quot; be...   python  \n",
       "4  <p>You need to specify the <code>index</code> ...   python  "
      ]
     },
     "execution_count": 21,
     "metadata": {},
     "output_type": "execute_result"
    }
   ],
   "source": [
    "so_df = pd.read_csv('so_database_app.csv')\n",
    "so_df.head()"
   ]
  },
  {
   "cell_type": "code",
   "execution_count": 24,
   "metadata": {},
   "outputs": [
    {
     "name": "stdout",
     "output_type": "stream",
     "text": [
      "Shape: (2000, 768)\n",
      "[[-0.03571156 -0.00240684  0.05860338 ... -0.03100227 -0.00855574\n",
      "  -0.01997405]\n",
      " [-0.02024316 -0.0026255   0.01940405 ... -0.02158143 -0.05655403\n",
      "  -0.01040497]\n",
      " [-0.05175979 -0.03712264  0.02699278 ... -0.07055898 -0.0402537\n",
      "   0.00092099]\n",
      " ...\n",
      " [-0.00580394 -0.01621097  0.05829635 ... -0.03350992 -0.05343556\n",
      "  -0.06016821]\n",
      " [-0.00436622 -0.02692963  0.03363771 ... -0.01686567 -0.03812337\n",
      "  -0.02329491]\n",
      " [-0.04240424 -0.01633749  0.05516777 ... -0.02697376 -0.01751165\n",
      "  -0.04558187]]\n"
     ]
    }
   ],
   "source": [
    "import pickle\n",
    "with open('question_embeddings_app.pkl', 'rb') as file:\n",
    "    question_embeddings = pickle.load(file)\n",
    "\n",
    "print(\"Shape: \" + str(question_embeddings.shape))\n",
    "print(question_embeddings)"
   ]
  },
  {
   "cell_type": "code",
   "execution_count": 28,
   "metadata": {},
   "outputs": [],
   "source": [
    "from sklearn.cluster import KMeans\n",
    "from sklearn.decomposition import PCA\n",
    "\n",
    "clustering_dataset = question_embeddings[:1000]\n",
    "n_clusters = 2\n",
    "kmeans = KMeans(n_clusters=n_clusters, random_state=0, n_init = 'auto').fit(clustering_dataset)"
   ]
  },
  {
   "cell_type": "code",
   "execution_count": 29,
   "metadata": {},
   "outputs": [],
   "source": [
    "kmeans_labels = kmeans.labels_\n",
    "PCA_model = PCA(n_components=2)\n",
    "PCA_model.fit(clustering_dataset)\n",
    "new_values = PCA_model.transform(clustering_dataset)"
   ]
  },
  {
   "cell_type": "code",
   "execution_count": 47,
   "metadata": {},
   "outputs": [],
   "source": [
    "import matplotlib.pyplot as plt\n",
    "import mplcursors\n",
    "# from utils import clusters_2D\n",
    "#%matplotlib ipympl\n",
    "\n",
    "# clusters_2D(x_values=new_values[:,0], y_values=new_values[:,1], labels=so_df[:1000], kmeans_labels=kmeans_labels)"
   ]
  },
  {
   "cell_type": "code",
   "execution_count": 48,
   "metadata": {},
   "outputs": [
    {
     "name": "stdout",
     "output_type": "stream",
     "text": [
      "Shape: (2001, 768)\n",
      "[[-0.03571156 -0.00240684  0.05860338 ... -0.03100227 -0.00855574\n",
      "  -0.01997405]\n",
      " [-0.02024316 -0.0026255   0.01940405 ... -0.02158143 -0.05655403\n",
      "  -0.01040497]\n",
      " [-0.05175979 -0.03712264  0.02699278 ... -0.07055898 -0.0402537\n",
      "   0.00092099]\n",
      " ...\n",
      " [-0.00436622 -0.02692963  0.03363771 ... -0.01686567 -0.03812337\n",
      "  -0.02329491]\n",
      " [-0.04240424 -0.01633749  0.05516777 ... -0.02697376 -0.01751165\n",
      "  -0.04558187]\n",
      " [-0.00302366 -0.02049104  0.02172194 ... -0.04479321 -0.05254056\n",
      "  -0.00319716]]\n"
     ]
    }
   ],
   "source": [
    "from sklearn.ensemble import IsolationForest\n",
    "import numpy as np\n",
    "input_text = \"\"\"I am making cookies but don't \n",
    "                remember the correct ingredient proportions. \n",
    "                I have been unable to find \n",
    "                anything on the web.\"\"\"\n",
    "\n",
    "emb = model.get_embeddings([input_text])[0].values\n",
    "embeddings_1 = question_embeddings.tolist()\n",
    "embeddings_1.append(emb)\n",
    "embeddings_array = np.array(embeddings_1)\n",
    "print(\"Shape: \" + str(embeddings_array.shape))\n",
    "print(embeddings_array)"
   ]
  },
  {
   "cell_type": "code",
   "execution_count": 49,
   "metadata": {},
   "outputs": [
    {
     "data": {
      "text/html": [
       "<div>\n",
       "<style scoped>\n",
       "    .dataframe tbody tr th:only-of-type {\n",
       "        vertical-align: middle;\n",
       "    }\n",
       "\n",
       "    .dataframe tbody tr th {\n",
       "        vertical-align: top;\n",
       "    }\n",
       "\n",
       "    .dataframe thead th {\n",
       "        text-align: right;\n",
       "    }\n",
       "</style>\n",
       "<table border=\"1\" class=\"dataframe\">\n",
       "  <thead>\n",
       "    <tr style=\"text-align: right;\">\n",
       "      <th></th>\n",
       "      <th>input_text</th>\n",
       "      <th>output_text</th>\n",
       "      <th>category</th>\n",
       "    </tr>\n",
       "  </thead>\n",
       "  <tbody>\n",
       "    <tr>\n",
       "      <th>1996</th>\n",
       "      <td>Flip Clock code works on Codepen and doesn't w...</td>\n",
       "      <td>&lt;p&gt;You forgot to attach the CSS file for the f...</td>\n",
       "      <td>css</td>\n",
       "    </tr>\n",
       "    <tr>\n",
       "      <th>1997</th>\n",
       "      <td>React Native How can I put one view in front o...</td>\n",
       "      <td>&lt;p&gt;You can do it using zIndex for example:&lt;/p&gt;...</td>\n",
       "      <td>css</td>\n",
       "    </tr>\n",
       "    <tr>\n",
       "      <th>1998</th>\n",
       "      <td>setting fixed width with 100% height of the pa...</td>\n",
       "      <td>&lt;p&gt;You can use &lt;code&gt;width: calc(100% - 100px)...</td>\n",
       "      <td>css</td>\n",
       "    </tr>\n",
       "    <tr>\n",
       "      <th>1999</th>\n",
       "      <td>How to make sidebar button not bring viewpoint...</td>\n",
       "      <td>&lt;p&gt;It is quite simple, just remove that href=\"...</td>\n",
       "      <td>css</td>\n",
       "    </tr>\n",
       "    <tr>\n",
       "      <th>2000</th>\n",
       "      <td>I am making cookies but don't \\n              ...</td>\n",
       "      <td>None</td>\n",
       "      <td>baking</td>\n",
       "    </tr>\n",
       "  </tbody>\n",
       "</table>\n",
       "</div>"
      ],
      "text/plain": [
       "                                             input_text  \\\n",
       "1996  Flip Clock code works on Codepen and doesn't w...   \n",
       "1997  React Native How can I put one view in front o...   \n",
       "1998  setting fixed width with 100% height of the pa...   \n",
       "1999  How to make sidebar button not bring viewpoint...   \n",
       "2000  I am making cookies but don't \\n              ...   \n",
       "\n",
       "                                            output_text category  \n",
       "1996  <p>You forgot to attach the CSS file for the f...      css  \n",
       "1997  <p>You can do it using zIndex for example:</p>...      css  \n",
       "1998  <p>You can use <code>width: calc(100% - 100px)...      css  \n",
       "1999  <p>It is quite simple, just remove that href=\"...      css  \n",
       "2000                                               None   baking  "
      ]
     },
     "execution_count": 49,
     "metadata": {},
     "output_type": "execute_result"
    }
   ],
   "source": [
    "# Add the outlier text to the end of the stackoverflow dataframe\n",
    "so_df = pd.read_csv('so_database_app.csv')\n",
    "new_row = pd.Series([input_text, None, \"baking\"], index=so_df.columns)\n",
    "so_df.loc[len(so_df)] = new_row\n",
    "so_df.tail()"
   ]
  },
  {
   "cell_type": "code",
   "execution_count": 50,
   "metadata": {},
   "outputs": [
    {
     "name": "stdout",
     "output_type": "stream",
     "text": [
      "2001 predictions. Set of possible values: {1, -1}\n"
     ]
    },
    {
     "data": {
      "text/html": [
       "<div>\n",
       "<style scoped>\n",
       "    .dataframe tbody tr th:only-of-type {\n",
       "        vertical-align: middle;\n",
       "    }\n",
       "\n",
       "    .dataframe tbody tr th {\n",
       "        vertical-align: top;\n",
       "    }\n",
       "\n",
       "    .dataframe thead th {\n",
       "        text-align: right;\n",
       "    }\n",
       "</style>\n",
       "<table border=\"1\" class=\"dataframe\">\n",
       "  <thead>\n",
       "    <tr style=\"text-align: right;\">\n",
       "      <th></th>\n",
       "      <th>input_text</th>\n",
       "      <th>output_text</th>\n",
       "      <th>category</th>\n",
       "    </tr>\n",
       "  </thead>\n",
       "  <tbody>\n",
       "    <tr>\n",
       "      <th>203</th>\n",
       "      <td>extract channel names from a multi-channel ima...</td>\n",
       "      <td>&lt;p&gt;PerkinElmer QPI metadata are stored as XML ...</td>\n",
       "      <td>python</td>\n",
       "    </tr>\n",
       "    <tr>\n",
       "      <th>1018</th>\n",
       "      <td>ASP .NET - JSON Serializer not working on clas...</td>\n",
       "      <td>&lt;p&gt;Ok, I forgot to add default &lt;code&gt;{ get; se...</td>\n",
       "      <td>r</td>\n",
       "    </tr>\n",
       "    <tr>\n",
       "      <th>1138</th>\n",
       "      <td>parse year and month from a string SQL BigQuer...</td>\n",
       "      <td>&lt;p&gt;How about using string operations?&lt;/p&gt;\\n&lt;pr...</td>\n",
       "      <td>r</td>\n",
       "    </tr>\n",
       "    <tr>\n",
       "      <th>1313</th>\n",
       "      <td>Array initialization with ternary operator in ...</td>\n",
       "      <td>&lt;p&gt;To make your code work, do the following in...</td>\n",
       "      <td>r</td>\n",
       "    </tr>\n",
       "    <tr>\n",
       "      <th>1358</th>\n",
       "      <td>How to represent 2 Entity with 2 Relation in E...</td>\n",
       "      <td>&lt;p&gt;&lt;a href=\"https://i.stack.imgur.com/BJxBP.pn...</td>\n",
       "      <td>r</td>\n",
       "    </tr>\n",
       "    <tr>\n",
       "      <th>1403</th>\n",
       "      <td>Apache ignite Partition Map Exchange , Baselin...</td>\n",
       "      <td>&lt;p&gt;Long story short, these topics are about da...</td>\n",
       "      <td>r</td>\n",
       "    </tr>\n",
       "    <tr>\n",
       "      <th>1427</th>\n",
       "      <td>Shortcut to reveal in Finder for currently ope...</td>\n",
       "      <td>&lt;p&gt;No. It is not present but we can add it. Go...</td>\n",
       "      <td>r</td>\n",
       "    </tr>\n",
       "    <tr>\n",
       "      <th>1493</th>\n",
       "      <td>How to change id of datatable?&lt;p&gt;I have some w...</td>\n",
       "      <td>&lt;p&gt;In short - you can't. But maybe you can:&lt;/p...</td>\n",
       "      <td>r</td>\n",
       "    </tr>\n",
       "    <tr>\n",
       "      <th>1498</th>\n",
       "      <td>What’s the difference between Next.js rewrites...</td>\n",
       "      <td>&lt;p&gt;&lt;code&gt;rewrites&lt;/code&gt; are a convenient way ...</td>\n",
       "      <td>r</td>\n",
       "    </tr>\n",
       "    <tr>\n",
       "      <th>2000</th>\n",
       "      <td>I am making cookies but don't \\n              ...</td>\n",
       "      <td>None</td>\n",
       "      <td>baking</td>\n",
       "    </tr>\n",
       "  </tbody>\n",
       "</table>\n",
       "</div>"
      ],
      "text/plain": [
       "                                             input_text  \\\n",
       "203   extract channel names from a multi-channel ima...   \n",
       "1018  ASP .NET - JSON Serializer not working on clas...   \n",
       "1138  parse year and month from a string SQL BigQuer...   \n",
       "1313  Array initialization with ternary operator in ...   \n",
       "1358  How to represent 2 Entity with 2 Relation in E...   \n",
       "1403  Apache ignite Partition Map Exchange , Baselin...   \n",
       "1427  Shortcut to reveal in Finder for currently ope...   \n",
       "1493  How to change id of datatable?<p>I have some w...   \n",
       "1498  What’s the difference between Next.js rewrites...   \n",
       "2000  I am making cookies but don't \\n              ...   \n",
       "\n",
       "                                            output_text category  \n",
       "203   <p>PerkinElmer QPI metadata are stored as XML ...   python  \n",
       "1018  <p>Ok, I forgot to add default <code>{ get; se...        r  \n",
       "1138  <p>How about using string operations?</p>\\n<pr...        r  \n",
       "1313  <p>To make your code work, do the following in...        r  \n",
       "1358  <p><a href=\"https://i.stack.imgur.com/BJxBP.pn...        r  \n",
       "1403  <p>Long story short, these topics are about da...        r  \n",
       "1427  <p>No. It is not present but we can add it. Go...        r  \n",
       "1493  <p>In short - you can't. But maybe you can:</p...        r  \n",
       "1498  <p><code>rewrites</code> are a convenient way ...        r  \n",
       "2000                                               None   baking  "
      ]
     },
     "execution_count": 50,
     "metadata": {},
     "output_type": "execute_result"
    }
   ],
   "source": [
    "clf = IsolationForest(contamination=0.005, random_state=2)\n",
    "preds = clf.fit_predict(embeddings_array)\n",
    "print(f\"{len(preds)} predictions. Set of possible values: {set(preds)}\")\n",
    "so_df.loc[preds == -1]"
   ]
  },
  {
   "cell_type": "code",
   "execution_count": 51,
   "metadata": {},
   "outputs": [
    {
     "data": {
      "text/html": [
       "<div>\n",
       "<style scoped>\n",
       "    .dataframe tbody tr th:only-of-type {\n",
       "        vertical-align: middle;\n",
       "    }\n",
       "\n",
       "    .dataframe tbody tr th {\n",
       "        vertical-align: top;\n",
       "    }\n",
       "\n",
       "    .dataframe thead th {\n",
       "        text-align: right;\n",
       "    }\n",
       "</style>\n",
       "<table border=\"1\" class=\"dataframe\">\n",
       "  <thead>\n",
       "    <tr style=\"text-align: right;\">\n",
       "      <th></th>\n",
       "      <th>input_text</th>\n",
       "      <th>output_text</th>\n",
       "      <th>category</th>\n",
       "    </tr>\n",
       "  </thead>\n",
       "  <tbody>\n",
       "    <tr>\n",
       "      <th>0</th>\n",
       "      <td>python's inspect.getfile returns \"&lt;string&gt;\"&lt;p&gt;...</td>\n",
       "      <td>&lt;p&gt;&lt;code&gt;&amp;lt;string&amp;gt;&lt;/code&gt; means that the ...</td>\n",
       "      <td>python</td>\n",
       "    </tr>\n",
       "    <tr>\n",
       "      <th>1</th>\n",
       "      <td>Passing parameter to function while multithrea...</td>\n",
       "      <td>&lt;p&gt;Try this and note the difference:&lt;/p&gt;\\n&lt;pre...</td>\n",
       "      <td>python</td>\n",
       "    </tr>\n",
       "    <tr>\n",
       "      <th>2</th>\n",
       "      <td>How do we test a specific method written in a ...</td>\n",
       "      <td>&lt;p&gt;Duplicate of &lt;a href=\"https://stackoverflow...</td>\n",
       "      <td>python</td>\n",
       "    </tr>\n",
       "    <tr>\n",
       "      <th>3</th>\n",
       "      <td>how can i remove the black bg color of an imag...</td>\n",
       "      <td>&lt;p&gt;The alpha channel &amp;quot;disappears&amp;quot; be...</td>\n",
       "      <td>python</td>\n",
       "    </tr>\n",
       "    <tr>\n",
       "      <th>4</th>\n",
       "      <td>How to extract each sheet within an Excel file...</td>\n",
       "      <td>&lt;p&gt;You need to specify the &lt;code&gt;index&lt;/code&gt; ...</td>\n",
       "      <td>python</td>\n",
       "    </tr>\n",
       "    <tr>\n",
       "      <th>...</th>\n",
       "      <td>...</td>\n",
       "      <td>...</td>\n",
       "      <td>...</td>\n",
       "    </tr>\n",
       "    <tr>\n",
       "      <th>1995</th>\n",
       "      <td>Is it possible to made inline-block elements l...</td>\n",
       "      <td>&lt;p&gt;If this is only for the visual purpose then...</td>\n",
       "      <td>css</td>\n",
       "    </tr>\n",
       "    <tr>\n",
       "      <th>1996</th>\n",
       "      <td>Flip Clock code works on Codepen and doesn't w...</td>\n",
       "      <td>&lt;p&gt;You forgot to attach the CSS file for the f...</td>\n",
       "      <td>css</td>\n",
       "    </tr>\n",
       "    <tr>\n",
       "      <th>1997</th>\n",
       "      <td>React Native How can I put one view in front o...</td>\n",
       "      <td>&lt;p&gt;You can do it using zIndex for example:&lt;/p&gt;...</td>\n",
       "      <td>css</td>\n",
       "    </tr>\n",
       "    <tr>\n",
       "      <th>1998</th>\n",
       "      <td>setting fixed width with 100% height of the pa...</td>\n",
       "      <td>&lt;p&gt;You can use &lt;code&gt;width: calc(100% - 100px)...</td>\n",
       "      <td>css</td>\n",
       "    </tr>\n",
       "    <tr>\n",
       "      <th>1999</th>\n",
       "      <td>How to make sidebar button not bring viewpoint...</td>\n",
       "      <td>&lt;p&gt;It is quite simple, just remove that href=\"...</td>\n",
       "      <td>css</td>\n",
       "    </tr>\n",
       "  </tbody>\n",
       "</table>\n",
       "<p>2000 rows × 3 columns</p>\n",
       "</div>"
      ],
      "text/plain": [
       "                                             input_text  \\\n",
       "0     python's inspect.getfile returns \"<string>\"<p>...   \n",
       "1     Passing parameter to function while multithrea...   \n",
       "2     How do we test a specific method written in a ...   \n",
       "3     how can i remove the black bg color of an imag...   \n",
       "4     How to extract each sheet within an Excel file...   \n",
       "...                                                 ...   \n",
       "1995  Is it possible to made inline-block elements l...   \n",
       "1996  Flip Clock code works on Codepen and doesn't w...   \n",
       "1997  React Native How can I put one view in front o...   \n",
       "1998  setting fixed width with 100% height of the pa...   \n",
       "1999  How to make sidebar button not bring viewpoint...   \n",
       "\n",
       "                                            output_text category  \n",
       "0     <p><code>&lt;string&gt;</code> means that the ...   python  \n",
       "1     <p>Try this and note the difference:</p>\\n<pre...   python  \n",
       "2     <p>Duplicate of <a href=\"https://stackoverflow...   python  \n",
       "3     <p>The alpha channel &quot;disappears&quot; be...   python  \n",
       "4     <p>You need to specify the <code>index</code> ...   python  \n",
       "...                                                 ...      ...  \n",
       "1995  <p>If this is only for the visual purpose then...      css  \n",
       "1996  <p>You forgot to attach the CSS file for the f...      css  \n",
       "1997  <p>You can do it using zIndex for example:</p>...      css  \n",
       "1998  <p>You can use <code>width: calc(100% - 100px)...      css  \n",
       "1999  <p>It is quite simple, just remove that href=\"...      css  \n",
       "\n",
       "[2000 rows x 3 columns]"
      ]
     },
     "execution_count": 51,
     "metadata": {},
     "output_type": "execute_result"
    }
   ],
   "source": [
    "# Remove the outlier about baking\n",
    "so_df = so_df.drop(so_df.index[-1])\n",
    "so_df"
   ]
  },
  {
   "cell_type": "code",
   "execution_count": 52,
   "metadata": {},
   "outputs": [
    {
     "data": {
      "text/plain": [
       "(2000, 768)"
      ]
     },
     "execution_count": 52,
     "metadata": {},
     "output_type": "execute_result"
    }
   ],
   "source": [
    "from sklearn.ensemble import RandomForestClassifier\n",
    "from sklearn.metrics import accuracy_score\n",
    "from sklearn.model_selection import train_test_split\n",
    "\n",
    "so_df = pd.read_csv('so_database_app.csv')\n",
    "X = question_embeddings\n",
    "X.shape"
   ]
  },
  {
   "cell_type": "code",
   "execution_count": 53,
   "metadata": {},
   "outputs": [
    {
     "data": {
      "text/plain": [
       "(2000,)"
      ]
     },
     "execution_count": 53,
     "metadata": {},
     "output_type": "execute_result"
    }
   ],
   "source": [
    "y = so_df['category'].values\n",
    "y.shape"
   ]
  },
  {
   "cell_type": "code",
   "execution_count": 55,
   "metadata": {},
   "outputs": [],
   "source": [
    "X_train, X_test, y_train, y_test = train_test_split(X, y, test_size=0.2, random_state=2)"
   ]
  },
  {
   "cell_type": "code",
   "execution_count": 56,
   "metadata": {},
   "outputs": [
    {
     "name": "stdout",
     "output_type": "stream",
     "text": [
      "Accuracy:  0.685\n"
     ]
    }
   ],
   "source": [
    "from sklearn.metrics import accuracy_score\n",
    "clf = RandomForestClassifier(n_estimators=200)\n",
    "clf.fit(X_train, y_train)\n",
    "y_pred = clf.predict(X_test)\n",
    "accuracy = accuracy_score(y_test, y_pred)\n",
    "print(\"Accuracy: \", accuracy)"
   ]
  },
  {
   "cell_type": "code",
   "execution_count": 57,
   "metadata": {},
   "outputs": [
    {
     "name": "stdout",
     "output_type": "stream",
     "text": [
      "For question 2, the prediction is `python`\n",
      "The actual label is `python`\n",
      "The question text is:\n",
      "--------------------------------------------------\n",
      "How do we test a specific method written in a list of files for functional testing in python<p>The project has so many modules. There are functional test cases being written for almost every api written like for GET requests, POST requests and PUT requests. To test an individual file we use the syntact pytest tests/file_name.py\n",
      "but I want to test a specific method in that file. Is there any way to test it like that??</p>\n"
     ]
    }
   ],
   "source": [
    "# Choose a number between 0 and 1999\n",
    "i = 2\n",
    "label = so_df.loc[i, 'category']\n",
    "question = so_df.loc[i, 'input_text']\n",
    "\n",
    "# Get the embedding\n",
    "question_embedding = model.get_embeddings([question])[0].values\n",
    "pred = clf.predict([question_embedding])\n",
    "\n",
    "print(f\"For question {i}, the prediction is `{pred[0]}`\")\n",
    "print(f\"The actual label is `{label}`\")\n",
    "print(f\"The question text is:\")\n",
    "print(\"-\"*50)\n",
    "print(question)"
   ]
  }
 ],
 "metadata": {
  "kernelspec": {
   "display_name": "env",
   "language": "python",
   "name": "python3"
  },
  "language_info": {
   "codemirror_mode": {
    "name": "ipython",
    "version": 3
   },
   "file_extension": ".py",
   "mimetype": "text/x-python",
   "name": "python",
   "nbconvert_exporter": "python",
   "pygments_lexer": "ipython3",
   "version": "3.9.18"
  }
 },
 "nbformat": 4,
 "nbformat_minor": 2
}
